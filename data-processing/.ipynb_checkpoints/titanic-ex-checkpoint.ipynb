{
 "cells": [
  {
   "cell_type": "code",
   "execution_count": 2,
   "id": "7972bcd1-ab20-4a13-b3da-b2f465c87bba",
   "metadata": {},
   "outputs": [],
   "source": [
    "import pandas as pd\n",
    "import numpy as np\n",
    "\n"
   ]
  },
  {
   "cell_type": "code",
   "execution_count": 8,
   "id": "f44ba57a-24da-47fe-897b-b4be2cb3854a",
   "metadata": {},
   "outputs": [],
   "source": [
    "dataset = pd.read_csv(\"titanic.csv\");\n",
    "\n",
    "\n",
    "dataset.values;\n"
   ]
  }
 ],
 "metadata": {
  "kernelspec": {
   "display_name": "Python 3 (ipykernel)",
   "language": "python",
   "name": "python3"
  },
  "language_info": {
   "codemirror_mode": {
    "name": "ipython",
    "version": 3
   },
   "file_extension": ".py",
   "mimetype": "text/x-python",
   "name": "python",
   "nbconvert_exporter": "python",
   "pygments_lexer": "ipython3",
   "version": "3.12.4"
  }
 },
 "nbformat": 4,
 "nbformat_minor": 5
}
